{
 "cells": [
  {
   "cell_type": "code",
   "execution_count": 2,
   "metadata": {},
   "outputs": [],
   "source": [
    "from tensorflow.keras.models import Sequential\n",
    "from tensorflow.keras.layers import Conv2D,MaxPooling2D,Flatten, Dense,Dropout\n",
    "from tensorflow.keras.callbacks import EarlyStopping\n",
    "import pickle"
   ]
  },
  {
   "cell_type": "code",
   "execution_count": 5,
   "metadata": {},
   "outputs": [],
   "source": [
    "X=pickle.load(open('X.pkl','rb'))\n",
    "y=pickle.load(open('y.pkl','rb'))"
   ]
  },
  {
   "cell_type": "code",
   "execution_count": 6,
   "metadata": {},
   "outputs": [],
   "source": [
    "X=X/255"
   ]
  },
  {
   "cell_type": "code",
   "execution_count": 7,
   "metadata": {},
   "outputs": [
    {
     "data": {
      "text/plain": [
       "(25000, 100, 100, 3)"
      ]
     },
     "execution_count": 7,
     "metadata": {},
     "output_type": "execute_result"
    }
   ],
   "source": [
    "X.shape"
   ]
  },
  {
   "cell_type": "code",
   "execution_count": 9,
   "metadata": {},
   "outputs": [],
   "source": [
    "model=Sequential()\n",
    "\n",
    "model.add(Conv2D(64,(3,3),activation='relu',input_shape=(X.shape[1:])))\n",
    "model.add(MaxPooling2D((2,2)))\n",
    "model.add(Dropout(0.2))\n",
    "\n",
    "model.add(Conv2D(64,(3,3),activation='relu'))\n",
    "model.add(MaxPooling2D((2,2)))\n",
    "model.add(Dropout(0.3))\n",
    "\n",
    "model.add(Conv2D(64,(3,3),activation='relu'))\n",
    "model.add(MaxPooling2D((2,2)))\n",
    "model.add(Dropout(0.3))\n",
    "\n",
    "model.add(Flatten())\n",
    "\n",
    "model.add(Dense(128,activation='relu'))\n",
    "\n",
    "model.add(Dense(2,activation='softmax'))\n",
    "\n",
    "model.compile(optimizer='adam', loss='sparse_categorical_crossentropy',metrics=['accuracy'])\n"
   ]
  },
  {
   "cell_type": "code",
   "execution_count": 10,
   "metadata": {},
   "outputs": [
    {
     "name": "stdout",
     "output_type": "stream",
     "text": [
      "Model: \"sequential_1\"\n",
      "_________________________________________________________________\n",
      "Layer (type)                 Output Shape              Param #   \n",
      "=================================================================\n",
      "conv2d_3 (Conv2D)            (None, 98, 98, 64)        1792      \n",
      "_________________________________________________________________\n",
      "max_pooling2d_3 (MaxPooling2 (None, 49, 49, 64)        0         \n",
      "_________________________________________________________________\n",
      "dropout_3 (Dropout)          (None, 49, 49, 64)        0         \n",
      "_________________________________________________________________\n",
      "conv2d_4 (Conv2D)            (None, 47, 47, 64)        36928     \n",
      "_________________________________________________________________\n",
      "max_pooling2d_4 (MaxPooling2 (None, 23, 23, 64)        0         \n",
      "_________________________________________________________________\n",
      "dropout_4 (Dropout)          (None, 23, 23, 64)        0         \n",
      "_________________________________________________________________\n",
      "conv2d_5 (Conv2D)            (None, 21, 21, 64)        36928     \n",
      "_________________________________________________________________\n",
      "max_pooling2d_5 (MaxPooling2 (None, 10, 10, 64)        0         \n",
      "_________________________________________________________________\n",
      "dropout_5 (Dropout)          (None, 10, 10, 64)        0         \n",
      "_________________________________________________________________\n",
      "flatten_1 (Flatten)          (None, 6400)              0         \n",
      "_________________________________________________________________\n",
      "dense_2 (Dense)              (None, 128)               819328    \n",
      "_________________________________________________________________\n",
      "dense_3 (Dense)              (None, 2)                 258       \n",
      "=================================================================\n",
      "Total params: 895,234\n",
      "Trainable params: 895,234\n",
      "Non-trainable params: 0\n",
      "_________________________________________________________________\n"
     ]
    }
   ],
   "source": [
    "model.summary()"
   ]
  },
  {
   "cell_type": "code",
   "execution_count": 11,
   "metadata": {},
   "outputs": [],
   "source": [
    "early_stop = EarlyStopping(monitor='val_loss',patience=2)"
   ]
  },
  {
   "cell_type": "code",
   "execution_count": 12,
   "metadata": {},
   "outputs": [
    {
     "name": "stdout",
     "output_type": "stream",
     "text": [
      "Train on 22500 samples, validate on 2500 samples\n",
      "Epoch 1/20\n",
      "22500/22500 [==============================] - 421s 19ms/sample - loss: 0.6400 - accuracy: 0.6112 - val_loss: 0.5689 - val_accuracy: 0.6960\n",
      "Epoch 2/20\n",
      "22500/22500 [==============================] - 445s 20ms/sample - loss: 0.5275 - accuracy: 0.7322 - val_loss: 0.5244 - val_accuracy: 0.7260\n",
      "Epoch 3/20\n",
      "22500/22500 [==============================] - 408s 18ms/sample - loss: 0.4706 - accuracy: 0.7734 - val_loss: 0.4271 - val_accuracy: 0.7940\n",
      "Epoch 4/20\n",
      "22500/22500 [==============================] - 422s 19ms/sample - loss: 0.4237 - accuracy: 0.8021 - val_loss: 0.4230 - val_accuracy: 0.8020\n",
      "Epoch 5/20\n",
      "22500/22500 [==============================] - 410s 18ms/sample - loss: 0.3888 - accuracy: 0.8242 - val_loss: 0.3887 - val_accuracy: 0.8156\n",
      "Epoch 6/20\n",
      "22500/22500 [==============================] - 405s 18ms/sample - loss: 0.3575 - accuracy: 0.8392 - val_loss: 0.3589 - val_accuracy: 0.8364\n",
      "Epoch 7/20\n",
      "22500/22500 [==============================] - 407s 18ms/sample - loss: 0.3345 - accuracy: 0.8526 - val_loss: 0.3461 - val_accuracy: 0.8432\n",
      "Epoch 8/20\n",
      "22500/22500 [==============================] - 400s 18ms/sample - loss: 0.3112 - accuracy: 0.8672 - val_loss: 0.3325 - val_accuracy: 0.8512\n",
      "Epoch 9/20\n",
      "22500/22500 [==============================] - 406s 18ms/sample - loss: 0.2919 - accuracy: 0.8732 - val_loss: 0.3250 - val_accuracy: 0.8552\n",
      "Epoch 10/20\n",
      "22500/22500 [==============================] - 398s 18ms/sample - loss: 0.2586 - accuracy: 0.8894 - val_loss: 0.3187 - val_accuracy: 0.8596\n",
      "Epoch 11/20\n",
      "22500/22500 [==============================] - 400s 18ms/sample - loss: 0.2410 - accuracy: 0.8983 - val_loss: 0.3254 - val_accuracy: 0.8588\n",
      "Epoch 12/20\n",
      "22500/22500 [==============================] - 398s 18ms/sample - loss: 0.2222 - accuracy: 0.9083 - val_loss: 0.3346 - val_accuracy: 0.8652\n"
     ]
    }
   ],
   "source": [
    "history=model.fit(X,y,epochs=20,validation_split=0.1,callbacks=[early_stop])"
   ]
  },
  {
   "cell_type": "code",
   "execution_count": 16,
   "metadata": {},
   "outputs": [],
   "source": [
    "import matplotlib.pyplot as plt\n",
    "def plotLearningCurve(history,epochs):\n",
    "    epochRange = range(1,epochs+1)\n",
    "    plt.plot(epochRange,history.history['accuracy'])\n",
    "    plt.plot(epochRange,history.history['val_accuracy'])\n",
    "    plt.title('Model Accuracy')\n",
    "    plt.xlabel('Epoch')\n",
    "    plt.ylabel('Accuracy')\n",
    "    plt.legend(['Train','Validation'])\n",
    "    plt.show()\n",
    "\n",
    "    plt.plot(epochRange,history.history['loss'])\n",
    "    plt.plot(epochRange,history.history['val_loss'])\n",
    "    plt.title('Model Loss')\n",
    "    plt.xlabel('Epoch')\n",
    "    plt.ylabel('Loss')\n",
    "    plt.legend(['Train','Validation'])\n",
    "    plt.show()"
   ]
  },
  {
   "cell_type": "code",
   "execution_count": 17,
   "metadata": {},
   "outputs": [
    {
     "data": {
      "image/png": "[encoded data removed]",
      "text/plain": [
       "<Figure size 432x288 with 1 Axes>"
      ]
     },
     "metadata": {
      "needs_background": "light"
     },
     "output_type": "display_data"
    },
    {
     "data": {
      "image/png": "[encoded data removed]",
      "text/plain": [
       "<Figure size 432x288 with 1 Axes>"
      ]
     },
     "metadata": {
      "needs_background": "light"
     },
     "output_type": "display_data"
    }
   ],
   "source": [
    "plotLearningCurve(history,12)"
   ]
  },
  {
   "cell_type": "code",
   "execution_count": null,
   "metadata": {},
   "outputs": [],
   "source": []
  }
 ],
 "metadata": {
  "kernelspec": {
   "display_name": "Python 3",
   "language": "python",
   "name": "python3"
  },
  "language_info": {
   "codemirror_mode": {
    "name": "ipython",
    "version": 3
   },
   "file_extension": ".py",
   "mimetype": "text/x-python",
   "name": "python",
   "nbconvert_exporter": "python",
   "pygments_lexer": "ipython3",
   "version": "3.7.0"
  }
 },
 "nbformat": 4,
 "nbformat_minor": 4
}
